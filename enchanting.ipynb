{
 "cells": [
  {
   "cell_type": "code",
   "execution_count": 3,
   "metadata": {
    "collapsed": false
   },
   "outputs": [
    {
     "name": "stdout",
     "output_type": "stream",
     "text": [
      "Populating the interactive namespace from numpy and matplotlib\n"
     ]
    }
   ],
   "source": [
    "%pylab inline"
   ]
  },
  {
   "cell_type": "code",
   "execution_count": 83,
   "metadata": {
    "collapsed": false
   },
   "outputs": [],
   "source": [
    "import pandas as pd\n",
    "import numpy as np\n",
    "from scipy import stats\n",
    "from scipy.stats import binom\n",
    "from matplotlib import pyplot as plt"
   ]
  },
  {
   "cell_type": "markdown",
   "metadata": {},
   "source": [
    "# DEFINITIONS"
   ]
  },
  {
   "cell_type": "code",
   "execution_count": 5,
   "metadata": {
    "collapsed": true
   },
   "outputs": [],
   "source": [
    "enchanting = pd.read_csv('enchanting.csv')"
   ]
  },
  {
   "cell_type": "code",
   "execution_count": 6,
   "metadata": {
    "collapsed": false
   },
   "outputs": [
    {
     "data": {
      "text/html": [
       "<div>\n",
       "<table border=\"1\" class=\"dataframe\">\n",
       "  <thead>\n",
       "    <tr style=\"text-align: right;\">\n",
       "      <th></th>\n",
       "      <th>luck</th>\n",
       "      <th>item</th>\n",
       "      <th>item_level</th>\n",
       "      <th>enchanting_level</th>\n",
       "      <th>result</th>\n",
       "    </tr>\n",
       "  </thead>\n",
       "  <tbody>\n",
       "    <tr>\n",
       "      <th>0</th>\n",
       "      <td>NAN</td>\n",
       "      <td>accessory</td>\n",
       "      <td>0</td>\n",
       "      <td>0</td>\n",
       "      <td>fail</td>\n",
       "    </tr>\n",
       "    <tr>\n",
       "      <th>1</th>\n",
       "      <td>NAN</td>\n",
       "      <td>accessory</td>\n",
       "      <td>0</td>\n",
       "      <td>1</td>\n",
       "      <td>fail</td>\n",
       "    </tr>\n",
       "    <tr>\n",
       "      <th>2</th>\n",
       "      <td>NAN</td>\n",
       "      <td>accessory</td>\n",
       "      <td>0</td>\n",
       "      <td>2</td>\n",
       "      <td>fail</td>\n",
       "    </tr>\n",
       "    <tr>\n",
       "      <th>3</th>\n",
       "      <td>NAN</td>\n",
       "      <td>accessory</td>\n",
       "      <td>0</td>\n",
       "      <td>3</td>\n",
       "      <td>fail</td>\n",
       "    </tr>\n",
       "    <tr>\n",
       "      <th>4</th>\n",
       "      <td>NAN</td>\n",
       "      <td>accessory</td>\n",
       "      <td>0</td>\n",
       "      <td>4</td>\n",
       "      <td>fail</td>\n",
       "    </tr>\n",
       "  </tbody>\n",
       "</table>\n",
       "</div>"
      ],
      "text/plain": [
       "  luck       item  item_level  enchanting_level result\n",
       "0  NAN  accessory           0                 0   fail\n",
       "1  NAN  accessory           0                 1   fail\n",
       "2  NAN  accessory           0                 2   fail\n",
       "3  NAN  accessory           0                 3   fail\n",
       "4  NAN  accessory           0                 4   fail"
      ]
     },
     "execution_count": 6,
     "metadata": {},
     "output_type": "execute_result"
    }
   ],
   "source": [
    "enchanting.head()"
   ]
  },
  {
   "cell_type": "code",
   "execution_count": 7,
   "metadata": {
    "collapsed": false
   },
   "outputs": [],
   "source": [
    "levels = range(0,4)\n",
    "item_levels = range(0,2)\n",
    "\n",
    "fails = enchanting.result == 'fail'\n",
    "wins = enchanting.result == 'win'\n",
    "\n",
    "luck_2 = enchanting.luck == '2'\n",
    "luck_4 = enchanting.luck == '4'\n",
    "\n",
    "il = lambda x: enchanting.item_level == x\n",
    "el = lambda x: enchanting.enchanting_level == x\n",
    "i = lambda x: enchanting.item == x\n",
    "l = lambda x: enchanting.luck == x"
   ]
  },
  {
   "cell_type": "code",
   "execution_count": 8,
   "metadata": {
    "collapsed": false
   },
   "outputs": [],
   "source": [
    "def ratios(item, item_level, enchanting_level, luck):\n",
    "    fail = enchanting[i(item)][l(luck)][il(item_level)][el(enchanting_level)]['result'].count()\n",
    "    win = enchanting[i(item)][l(luck)][il(item_level)][el(enchanting_level)]['result'].count()\n",
    "    return (win+fail), win*1.0/(win+fail)"
   ]
  },
  {
   "cell_type": "code",
   "execution_count": 312,
   "metadata": {
    "collapsed": false
   },
   "outputs": [],
   "source": [
    "def ratios_ignore_luck(item, item_level, enchanting_level):\n",
    "    fail = enchanting[fails][i(item)][il(item_level)][el(enchanting_level)]['result'].count()\n",
    "    win = enchanting[wins][i(item)][il(item_level)][el(enchanting_level)]['result'].count()\n",
    "    if win+fail > 5:\n",
    "        return item_level, (win+fail), win*1.0/(win+fail)\n",
    "    elif enchanting_level > 1:\n",
    "        return ratios_ignore_luck(item, item_level,enchanting_level-1)\n",
    "    else:\n",
    "        return ratios_ignore_luck(item, item_level-1,enchanting_level)"
   ]
  },
  {
   "cell_type": "code",
   "execution_count": 273,
   "metadata": {
    "collapsed": true
   },
   "outputs": [],
   "source": [
    "def ratios_ignore_luck_enchanting_level(item, item_level):\n",
    "    fail = enchanting[fails][i(item)][il(item_level)]['result'].count()\n",
    "    win = enchanting[wins][i(item)][il(item_level)]['result'].count()\n",
    "    if (win+fail) >5:\n",
    "        return item_level, (win+fail), win*1.0/(win+fail)\n",
    "    else:\n",
    "        return ratios_ignore_luck_enchanting_level(item, item_level-1)"
   ]
  },
  {
   "cell_type": "markdown",
   "metadata": {},
   "source": [
    "# KNOWN FACTS"
   ]
  },
  {
   "cell_type": "code",
   "execution_count": 73,
   "metadata": {
    "collapsed": false
   },
   "outputs": [
    {
     "name": "stdout",
     "output_type": "stream",
     "text": [
      "LinregressResult(slope=-0.025000000000000001, intercept=0.40000000000000002, rvalue=-1.0, pvalue=2.5000000000000343e-60, stderr=0.0)\n"
     ]
    },
    {
     "data": {
      "text/plain": [
       "<matplotlib.collections.PathCollection at 0x7fb8f4c07090>"
      ]
     },
     "execution_count": 73,
     "metadata": {},
     "output_type": "execute_result"
    },
    {
     "data": {
      "image/png": "[encoded data removed]",
      "text/plain": [
       "<matplotlib.figure.Figure at 0x7fb8f58f0bd0>"
      ]
     },
     "metadata": {},
     "output_type": "display_data"
    }
   ],
   "source": [
    "weapon_level = np.arange(8,16)\n",
    "probabilities =  [.2, .175, .15, .125, .1, .075, .05, .025]\n",
    "highest_failstacks = [13, 14, 15, 16, 18, 20, 25, 25]\n",
    "increase = [.025, .02, .015, .0125, .0075,.0063, .005, .005]\n",
    "result = stats.linregress(weapon_level, probabilities)\n",
    "print result\n",
    "scatter(weapon_level, probabilities)\n",
    "plot(weapon_level, [x*result.slope+result.intercept for x in weapon_level], 'r')\n",
    "scatter(weapon_level, probabilities + np.multiply(highest_failstacks, increase), c='r')\n",
    "scatter(weapon_level, np.multiply(highest_failstacks, increase) - probabilities, c='g')"
   ]
  },
  {
   "cell_type": "markdown",
   "metadata": {},
   "source": [
    "# CALCULATING EXPECTED VALUES"
   ]
  },
  {
   "cell_type": "code",
   "execution_count": 299,
   "metadata": {
    "collapsed": false
   },
   "outputs": [
    {
     "data": {
      "text/plain": [
       "[<matplotlib.lines.Line2D at 0x7fb8f1553690>]"
      ]
     },
     "execution_count": 299,
     "metadata": {},
     "output_type": "execute_result"
    },
    {
     "data": {
      "image/png": "[encoded data removed]",
      "text/plain": [
       "<matplotlib.figure.Figure at 0x7fb8f1224b10>"
      ]
     },
     "metadata": {},
     "output_type": "display_data"
    }
   ],
   "source": [
    "preco_blackstone = 350\n",
    "preco_acessorio = 50\n",
    "preco_acessorio_r1 = 100\n",
    "p_blackstone = lambda x: -.025*x + .4\n",
    "rank = 9\n",
    "tries = 10\n",
    "\n",
    "expected_value_blackstone = lambda tries, rank: -p_blackstone(rank)*preco_blackstone\n",
    "expected_value_acessorio = lambda tries, rank: (preco_blackstone-(preco_acessorio*(1-ratios_ignore_luck('accessory', 0, tries)[2]))) - preco_acessorio*tries\n",
    "expected_value_acessorio_r1 = lambda tries, rank: (preco_blackstone-(preco_acessorio*(1-ratios_ignore_luck('accessory', 1, tries)[2]))) - preco_acessorio_r1*tries\n",
    "\n",
    "plot(range(1,tries+1),[ expected_value_blackstone(x,8) for x in range(1,tries+1)],c='b')\n",
    "plot(range(1,tries+1),[ expected_value_acessorio(x,8) for x in range(1,tries+1)],c='g')\n",
    "plot(range(1,tries+1),[ expected_value_acessorio_r1(x,8) for x in range(1,tries+1)],c='r')"
   ]
  },
  {
   "cell_type": "code",
   "execution_count": 315,
   "metadata": {
    "collapsed": false
   },
   "outputs": [
    {
     "data": {
      "text/plain": [
       "<Container object of 25 artists>"
      ]
     },
     "execution_count": 315,
     "metadata": {},
     "output_type": "execute_result"
    },
    {
     "data": {
      "image/png": "[encoded data removed]",
      "text/plain": [
       "<matplotlib.figure.Figure at 0x7fb8f0dc1cd0>"
      ]
     },
     "metadata": {},
     "output_type": "display_data"
    }
   ],
   "source": [
    "bar(range(0,25),[ratios_ignore_luck('accessory',0,x)[1] for x in range(0,25)])"
   ]
  },
  {
   "cell_type": "code",
   "execution_count": 311,
   "metadata": {
    "collapsed": false
   },
   "outputs": [
    {
     "data": {
      "text/plain": [
       "(0, 4, 0.25)"
      ]
     },
     "execution_count": 311,
     "metadata": {},
     "output_type": "execute_result"
    }
   ],
   "source": [
    "ratios_ignore_luck('accessory',0,5)"
   ]
  },
  {
   "cell_type": "code",
   "execution_count": 226,
   "metadata": {
    "collapsed": false
   },
   "outputs": [
    {
     "data": {
      "text/plain": [
       "<matplotlib.collections.LineCollection at 0x7fb8f256f050>"
      ]
     },
     "execution_count": 226,
     "metadata": {},
     "output_type": "execute_result"
    },
    {
     "data": {
      "image/png": "[encoded data removed]",
      "text/plain": [
       "<matplotlib.figure.Figure at 0x7fb8f260f3d0>"
      ]
     },
     "metadata": {},
     "output_type": "display_data"
    }
   ],
   "source": [
    "rv = binom(10, .2)\n",
    "\n",
    "x = np.arange(rv.ppf(0.01), rv.ppf(0.99))\n",
    "plot(x, rv.pmf(x), 'bo', ms=8, label='binom pmf')\n",
    "vlines(x, 0, rv.pmf(x), colors='b', lw=5, alpha=0.5)"
   ]
  }
 ],
 "metadata": {
  "kernelspec": {
   "display_name": "Python 2",
   "language": "python",
   "name": "python2"
  },
  "language_info": {
   "codemirror_mode": {
    "name": "ipython",
    "version": 2
   },
   "file_extension": ".py",
   "mimetype": "text/x-python",
   "name": "python",
   "nbconvert_exporter": "python",
   "pygments_lexer": "ipython2",
   "version": "2.7.6"
  }
 },
 "nbformat": 4,
 "nbformat_minor": 0
}
