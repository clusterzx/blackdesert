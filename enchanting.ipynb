{
 "cells": [
  {
   "cell_type": "code",
   "execution_count": 251,
   "metadata": {
    "collapsed": false
   },
   "outputs": [
    {
     "name": "stdout",
     "output_type": "stream",
     "text": [
      "Populating the interactive namespace from numpy and matplotlib\n"
     ]
    }
   ],
   "source": [
    "import pandas as pd\n",
    "from matplotlib import pyplot as plt\n",
    "%pylab inline"
   ]
  },
  {
   "cell_type": "code",
   "execution_count": 296,
   "metadata": {
    "collapsed": true
   },
   "outputs": [],
   "source": [
    "enchanting = pd.read_csv('enchanting.csv')"
   ]
  },
  {
   "cell_type": "code",
   "execution_count": 297,
   "metadata": {
    "collapsed": false
   },
   "outputs": [
    {
     "data": {
      "text/html": [
       "<div>\n",
       "<table border=\"1\" class=\"dataframe\">\n",
       "  <thead>\n",
       "    <tr style=\"text-align: right;\">\n",
       "      <th></th>\n",
       "      <th>luck</th>\n",
       "      <th>item</th>\n",
       "      <th>item_level</th>\n",
       "      <th>enchanting_level</th>\n",
       "      <th>result</th>\n",
       "    </tr>\n",
       "  </thead>\n",
       "  <tbody>\n",
       "    <tr>\n",
       "      <th>0</th>\n",
       "      <td>NAN</td>\n",
       "      <td>accessory</td>\n",
       "      <td>0</td>\n",
       "      <td>0</td>\n",
       "      <td>fail</td>\n",
       "    </tr>\n",
       "    <tr>\n",
       "      <th>1</th>\n",
       "      <td>NAN</td>\n",
       "      <td>accessory</td>\n",
       "      <td>0</td>\n",
       "      <td>1</td>\n",
       "      <td>fail</td>\n",
       "    </tr>\n",
       "    <tr>\n",
       "      <th>2</th>\n",
       "      <td>NAN</td>\n",
       "      <td>accessory</td>\n",
       "      <td>0</td>\n",
       "      <td>2</td>\n",
       "      <td>fail</td>\n",
       "    </tr>\n",
       "    <tr>\n",
       "      <th>3</th>\n",
       "      <td>NAN</td>\n",
       "      <td>accessory</td>\n",
       "      <td>0</td>\n",
       "      <td>3</td>\n",
       "      <td>fail</td>\n",
       "    </tr>\n",
       "    <tr>\n",
       "      <th>4</th>\n",
       "      <td>NAN</td>\n",
       "      <td>accessory</td>\n",
       "      <td>0</td>\n",
       "      <td>4</td>\n",
       "      <td>fail</td>\n",
       "    </tr>\n",
       "  </tbody>\n",
       "</table>\n",
       "</div>"
      ],
      "text/plain": [
       "  luck       item  item_level  enchanting_level result\n",
       "0  NAN  accessory           0                 0   fail\n",
       "1  NAN  accessory           0                 1   fail\n",
       "2  NAN  accessory           0                 2   fail\n",
       "3  NAN  accessory           0                 3   fail\n",
       "4  NAN  accessory           0                 4   fail"
      ]
     },
     "execution_count": 297,
     "metadata": {},
     "output_type": "execute_result"
    }
   ],
   "source": [
    "enchanting.head()"
   ]
  },
  {
   "cell_type": "code",
   "execution_count": 298,
   "metadata": {
    "collapsed": false
   },
   "outputs": [],
   "source": [
    "levels = range(0,4)\n",
    "item_levels = range(0,2)\n",
    "\n",
    "fails = enchanting.result == 'fail'\n",
    "wins = enchanting.result == 'win'\n",
    "\n",
    "luck_2 = enchanting.luck == '2'\n",
    "luck_4 = enchanting.luck == '4'\n",
    "\n",
    "il = lambda x: enchanting.item_level == x\n",
    "el = lambda x: enchanting.enchanting_level == x\n",
    "i = lambda x: enchanting.item == x\n",
    "l = lambda x: enchanting.luck == x"
   ]
  },
  {
   "cell_type": "code",
   "execution_count": 299,
   "metadata": {
    "collapsed": false
   },
   "outputs": [],
   "source": [
    "def ratios(item, item_level, enchanting_level, luck):\n",
    "    fail = enchanting[i(item)][l(luck)][il(item_level)][el(enchanting_level)]['result'].count()\n",
    "    win = enchanting[i(item)][l(luck)][il(item_level)][el(enchanting_level)]['result'].count()\n",
    "    return (win+fail), win*1.0/(win+fail)"
   ]
  },
  {
   "cell_type": "code",
   "execution_count": 300,
   "metadata": {
    "collapsed": true
   },
   "outputs": [],
   "source": [
    "def ratios_ignore_luck(item, item_level, enchanting_level):\n",
    "    fail = enchanting[fails][i(item)][il(item_level)][el(enchanting_level)]['result'].count()\n",
    "    win = enchanting[wins][i(item)][il(item_level)][el(enchanting_level)]['result'].count()\n",
    "    return (win+fail), win*1.0/(win+fail)"
   ]
  },
  {
   "cell_type": "code",
   "execution_count": 302,
   "metadata": {
    "collapsed": false
   },
   "outputs": [
    {
     "name": "stdout",
     "output_type": "stream",
     "text": [
      "4 (0, nan)\n",
      "5 (0, nan)\n",
      "6 (0, nan)\n",
      "7 (0, nan)\n",
      "8 (0, nan)\n",
      "9 (0, nan)\n",
      "10 (0, nan)\n",
      "11 (0, nan)\n",
      "12 (0, nan)\n",
      "13 (0, nan)\n",
      "14 (0, nan)\n",
      "15 (1, 0.0)\n",
      "16 (1, 0.0)\n",
      "17 (1, 0.0)\n",
      "18 (1, 0.0)\n",
      "19 (1, 0.0)\n",
      "20 (1, 0.0)\n",
      "21 (1, 0.0)\n",
      "22 (1, 0.0)\n",
      "23 (1, 1.0)\n",
      "24 (0, nan)\n"
     ]
    }
   ],
   "source": [
    "for enchanting_level in range(4,25):\n",
    "    print enchanting_level, ratios_ignore_luck('weapon',14,enchanting_level)"
   ]
  },
  {
   "cell_type": "code",
   "execution_count": 305,
   "metadata": {
    "collapsed": false
   },
   "outputs": [
    {
     "data": {
      "text/plain": [
       "(19, 0.052631578947368418)"
      ]
     },
     "execution_count": 305,
     "metadata": {},
     "output_type": "execute_result"
    }
   ],
   "source": [
    "ratios_ignore_luck('accessory',1,2)"
   ]
  },
  {
   "cell_type": "code",
   "execution_count": null,
   "metadata": {
    "collapsed": true
   },
   "outputs": [],
   "source": []
  }
 ],
 "metadata": {
  "kernelspec": {
   "display_name": "Python 2",
   "language": "python",
   "name": "python2"
  },
  "language_info": {
   "codemirror_mode": {
    "name": "ipython",
    "version": 2
   },
   "file_extension": ".py",
   "mimetype": "text/x-python",
   "name": "python",
   "nbconvert_exporter": "python",
   "pygments_lexer": "ipython2",
   "version": "2.7.6"
  }
 },
 "nbformat": 4,
 "nbformat_minor": 0
}
